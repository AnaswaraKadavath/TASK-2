{
  "nbformat": 4,
  "nbformat_minor": 0,
  "metadata": {
    "colab": {
      "provenance": []
    },
    "kernelspec": {
      "name": "python3",
      "display_name": "Python 3"
    },
    "language_info": {
      "name": "python"
    }
  },
  "cells": [
    {
      "cell_type": "markdown",
      "source": [
        "1. Develop a program that asks the user for numbers until they enter 0.Print the sum of all the numbers entered by the user except for the number 7, using a continue statement to skip adding to the sum."
      ],
      "metadata": {
        "id": "DsK32PfefXey"
      }
    },
    {
      "cell_type": "code",
      "execution_count": 4,
      "metadata": {
        "colab": {
          "base_uri": "https://localhost:8080/"
        },
        "id": "X_5mwFoBfTVa",
        "outputId": "64de2572-4d5a-4232-d2cc-f72b02fefa80"
      },
      "outputs": [
        {
          "output_type": "stream",
          "name": "stdout",
          "text": [
            "Enter a number: 2\n",
            "Enter a number: 3\n",
            "Enter a number: 7\n",
            "Enter a number: 5\n",
            "Enter a number: 0\n",
            "the sum is: 10\n"
          ]
        }
      ],
      "source": [
        "sum=0\n",
        "while True:\n",
        "    num=int(input(\"Enter a number: \"))\n",
        "    if num==0:\n",
        "        break\n",
        "    elif num==7:\n",
        "        continue\n",
        "    else:\n",
        "        sum+=num\n",
        "print(\"the sum is:\",sum)"
      ]
    },
    {
      "cell_type": "markdown",
      "source": [
        "2.Create a program that generates random numbers between 1 and 100 until it generates a number that is a perfect square.Print the number and its square root, then terminate the loop using a break statement."
      ],
      "metadata": {
        "id": "PTWkTFogiciS"
      }
    },
    {
      "cell_type": "code",
      "source": [
        "import random\n",
        "import math\n",
        "\n",
        "while True:\n",
        "    num = random.randint(1, 100)\n",
        "    sqrt_num = math.isqrt(num)  # Get the integer square root of the number\n",
        "    if sqrt_num * sqrt_num == num:  # Check if the number is a perfect square\n",
        "        print(f\"The perfect square is {num} and its square root is {sqrt_num}.\")\n",
        "        break\n"
      ],
      "metadata": {
        "colab": {
          "base_uri": "https://localhost:8080/"
        },
        "id": "VPnlzKcEhHt-",
        "outputId": "da7c76e3-a3a1-4b1c-a950-5a52143b40c4"
      },
      "execution_count": 5,
      "outputs": [
        {
          "output_type": "stream",
          "name": "stdout",
          "text": [
            "The perfect square is 9 and its square root is 3.\n"
          ]
        }
      ]
    },
    {
      "cell_type": "markdown",
      "source": [
        "3.Write a program to print all the vowels in a given string, but skip printing if the character is a space using a continue statement"
      ],
      "metadata": {
        "id": "yab6eNLFnmHf"
      }
    },
    {
      "cell_type": "code",
      "source": [
        "def print_vowels(input_string):\n",
        "    vowels = \"aeiouAEIOU\"\n",
        "    for char in input_string:\n",
        "        if char == ' ':\n",
        "            continue\n",
        "        if char in vowels:\n",
        "            print(char)\n",
        "\n",
        "\n",
        "input_string = \"Hello World\"\n",
        "print_vowels(input_string)\n"
      ],
      "metadata": {
        "colab": {
          "base_uri": "https://localhost:8080/"
        },
        "id": "Ys1pZ8N-nhVY",
        "outputId": "679e4af7-230c-4e18-87d4-0a5dddcd371b"
      },
      "execution_count": 7,
      "outputs": [
        {
          "output_type": "stream",
          "name": "stdout",
          "text": [
            "e\n",
            "o\n",
            "o\n"
          ]
        }
      ]
    },
    {
      "cell_type": "code",
      "source": [],
      "metadata": {
        "id": "N79atu1UoZ1S"
      },
      "execution_count": null,
      "outputs": []
    }
  ]
}